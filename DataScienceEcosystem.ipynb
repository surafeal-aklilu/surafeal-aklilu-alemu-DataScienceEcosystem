{
 "cells": [
  {
   "cell_type": "markdown",
   "id": "1cf815b5-38d3-4b26-8f59-080099500c0f",
   "metadata": {},
   "source": [
    "# Data Science Tools and Ecosytem"
   ]
  },
  {
   "cell_type": "markdown",
   "id": "806429da-b3bf-47e1-9cde-ae078211cd56",
   "metadata": {},
   "source": [
    "In this notebook, Data science Tools and Ecosystem are summarized"
   ]
  },
  {
   "cell_type": "markdown",
   "id": "ad3e86d2-ba98-474f-b9ab-a5bdb9730bdf",
   "metadata": {},
   "source": [
    "Some of the popular languges that Data Scientists use are:\n",
    "1. phython\n",
    "2. R\n",
    "3. SQL"
   ]
  },
  {
   "cell_type": "markdown",
   "id": "739dc9a1-914c-4f2f-8c71-88f51f6fdee3",
   "metadata": {},
   "source": [
    "Some of the commonly used libraries used by Data scientists include:\n",
    "1. panda\n",
    "2. ggplot\n",
    "3. numpy"
   ]
  },
  {
   "cell_type": "markdown",
   "id": "19f4adfb-6cfb-460b-80ad-3c2e0fdecd56",
   "metadata": {},
   "source": [
    "|Data Science Tools|\n",
    "|------------------|\n",
    "|jupyter labs|\n",
    "|R Studio|\n",
    "|jupyter note book|"
   ]
  },
  {
   "cell_type": "markdown",
   "id": "42580b5d-b0a2-4322-8053-bd5d6bd6638f",
   "metadata": {},
   "source": [
    "### Below are few examples of evaluating arithmetic expression in Pyhton"
   ]
  },
  {
   "cell_type": "code",
   "execution_count": 3,
   "id": "d23ac55a-2fb1-4cc0-8157-58bc6c89a5d6",
   "metadata": {},
   "outputs": [
    {
     "data": {
      "text/plain": [
       "17"
      ]
     },
     "execution_count": 3,
     "metadata": {},
     "output_type": "execute_result"
    }
   ],
   "source": [
    "#\" This a simple arithmetic expression to mutiply then and add integers\"\n",
    "(3*4)+5"
   ]
  },
  {
   "cell_type": "code",
   "execution_count": 4,
   "id": "790d173a-886f-446b-a5dc-45c0833fe064",
   "metadata": {},
   "outputs": [
    {
     "data": {
      "text/plain": [
       "3.3333333333333335"
      ]
     },
     "execution_count": 4,
     "metadata": {},
     "output_type": "execute_result"
    }
   ],
   "source": [
    "# This will convert 200 minutes to hours by diving by 60\n",
    "200/60"
   ]
  },
  {
   "cell_type": "markdown",
   "id": "6e08f7fb-daf7-4ee0-9907-d8d6dee37631",
   "metadata": {},
   "source": [
    "__Objectives__:\n",
    "* list Data science tools\n",
    "* list Some of the commonly used libraries used by Data Scientist\n",
    "* list Some of the Popular languages that Data Sscientist use"
   ]
  },
  {
   "cell_type": "markdown",
   "id": "2da3eaf1-5460-4a0d-ade7-6e428e50a324",
   "metadata": {},
   "source": [
    "## Author\n",
    "suraf"
   ]
  }
 ],
 "metadata": {
  "kernelspec": {
   "display_name": "Python 3 (ipykernel)",
   "language": "python",
   "name": "python3"
  },
  "language_info": {
   "codemirror_mode": {
    "name": "ipython",
    "version": 3
   },
   "file_extension": ".py",
   "mimetype": "text/x-python",
   "name": "python",
   "nbconvert_exporter": "python",
   "pygments_lexer": "ipython3",
   "version": "3.11.9"
  }
 },
 "nbformat": 4,
 "nbformat_minor": 5
}
